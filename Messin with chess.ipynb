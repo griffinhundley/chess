{
 "cells": [
  {
   "cell_type": "markdown",
   "metadata": {},
   "source": [
    "PGN is a file type used for chess game databases\n",
    "\n",
    "Sample of PGN (portable game notation) file"
   ]
  },
  {
   "cell_type": "code",
   "execution_count": 4,
   "metadata": {},
   "outputs": [
    {
     "data": {
      "text/plain": [
       "'[Event \"Rated Classical game\"]\\n[Site \"https://lichess.org/j1dkb5dw\"]\\n[White \"BFG9k\"]\\n[Black \"mamalak\"]\\n[Result \"1-0\"]\\n[UTCDate \"2012.12.31\"]\\n[UTCTime \"23:01:03\"]\\n[WhiteElo \"1639\"]\\n[BlackElo \"1403\"]\\n[WhiteRatingDiff \"+5\"]\\n[BlackRatingDiff \"-8\"]\\n[ECO \"C00\"]\\n[Opening \"French Defense: Normal Variation\"]\\n[TimeControl \"600+8\"]\\n[Termination \"Normal\"]\\n\\n1. e4 e6 2. d4 b6 3. a3 Bb7 4. Nc3 Nh6 5. Bxh6 gxh6 6. Be2 Qg5 7. Bg4 h5 8. Nf3 Qg6 9. Nh4 Qg5 10. Bxh5 Qxh4 11. Qf3 Kd8 12. Qxf7 Nc6 13. Qe8# 1-0\\n\\n[Event \"Rated Classical game\"]\\n[Site \"https://lichess.org/a9tcp02g\"]\\n[White \"Desmond_Wilson\"]\\n[Black \"savinka59\"]\\n[Result \"1-0\"]\\n[UTCDate \"2012.12.31\"]\\n[UTCTime \"23:04:12\"]\\n[WhiteElo \"1654\"]\\n[BlackElo \"1919\"]\\n[WhiteRatingDiff \"+19\"]\\n[BlackRatingDiff \"-22\"]\\n[ECO \"D04\"]\\n[Opening \"Queen\\'s Pawn Game: Colle System, Anti-Colle\"]\\n[TimeControl \"480+2\"]\\n[Termination \"Normal\"]\\n\\n1. d4 d5 2. Nf3 Nf6 3. e3 Bf5 4. Nh4 Bg6 5. Nxg6 hxg6 6. Nd2 e6 7. Bd3 Bd6 8. e4 dxe4 9. Nxe4 Rxh2 10. Ke2 Rxh1 11. Qxh1 Nc6 12. Bg5 K'"
      ]
     },
     "execution_count": 4,
     "metadata": {},
     "output_type": "execute_result"
    }
   ],
   "source": [
    "open('lichess_db_standard_rated_2013-01.pgn').read()[:1000]"
   ]
  },
  {
   "cell_type": "code",
   "execution_count": 30,
   "metadata": {},
   "outputs": [],
   "source": [
    "import pandas as pd\n",
    "# garbled mess attempt #1\n",
    "# class Chess:\n",
    "#     def __init__(self, path):\n",
    "#         self.path = path\n",
    "        \n",
    "#     def pgn_to_df(self): # Formats the pgn string by removing characters and splitting into list of lists\n",
    "#                          # then puts some of the key information into a pandas dataframe\n",
    "#         file = open(self.path)\n",
    "#         text_list = file.read().replace('\"', '').replace('[', '').replace(']', '').replace('Event', '***Event').replace('\\n\\n', '\\n').split('***')\n",
    "#         formatted = [x for x in text_list if x != '']\n",
    "#         sized = list(map(lambda x: x.split('\\n'), formatted))\n",
    "#         chesslst = [x for x in sized if len(x) == 17]  # Excludes entries lacking complete data (len(list) = 17 indicates all fields have data)\n",
    "#         chessDF = [{\n",
    "#             'Event': x[0][6:],\n",
    "#             'White': x[2][6:],\n",
    "#             'Black': x[3][6:],\n",
    "#             'Result': x[4][7:],\n",
    "#             'WhiteElo': x[7][9:],\n",
    "#             'BlackElo': x[8][9:],\n",
    "#             'GameNotation': x[15]\n",
    "#         } for x in chesslst]\n",
    "#         return pd.DataFrame(chessDF)"
   ]
  },
  {
   "cell_type": "code",
   "execution_count": 40,
   "metadata": {},
   "outputs": [],
   "source": [
    "class Chess:\n",
    "    def __init__(self, path):\n",
    "        self.path = path\n",
    "        \n",
    "    def pgn_to_csv(self):\n",
    "        f = open(self.path).read()\n",
    "        formatted_string = f.replace('[Event', '***[Event')\n",
    "        split_into_list = formatted_string.replace('\\n\\n', '\\n').split('***')\n",
    "        blanks_stripped = [x for x in split_into_list if x != '']\n",
    "        sub_lists = list(map(lambda x: x.split('\\n'), blanks_stripped))\n",
    "        return sub_lists"
   ]
  },
  {
   "cell_type": "code",
   "execution_count": 41,
   "metadata": {},
   "outputs": [
    {
     "data": {
      "text/plain": [
       "['[Event \"Rated Classical game\"]',\n",
       " '[Site \"https://lichess.org/a9tcp02g\"]',\n",
       " '[White \"Desmond_Wilson\"]',\n",
       " '[Black \"savinka59\"]',\n",
       " '[Result \"1-0\"]',\n",
       " '[UTCDate \"2012.12.31\"]',\n",
       " '[UTCTime \"23:04:12\"]',\n",
       " '[WhiteElo \"1654\"]',\n",
       " '[BlackElo \"1919\"]',\n",
       " '[WhiteRatingDiff \"+19\"]',\n",
       " '[BlackRatingDiff \"-22\"]',\n",
       " '[ECO \"D04\"]',\n",
       " '[Opening \"Queen\\'s Pawn Game: Colle System, Anti-Colle\"]',\n",
       " '[TimeControl \"480+2\"]',\n",
       " '[Termination \"Normal\"]',\n",
       " '1. d4 d5 2. Nf3 Nf6 3. e3 Bf5 4. Nh4 Bg6 5. Nxg6 hxg6 6. Nd2 e6 7. Bd3 Bd6 8. e4 dxe4 9. Nxe4 Rxh2 10. Ke2 Rxh1 11. Qxh1 Nc6 12. Bg5 Ke7 13. Qh7 Nxd4+ 14. Kd2 Qe8 15. Qxg7 Qh8 16. Bxf6+ Kd7 17. Qxh8 Rxh8 18. Bxh8 1-0',\n",
       " '']"
      ]
     },
     "execution_count": 41,
     "metadata": {},
     "output_type": "execute_result"
    }
   ],
   "source": [
    "c = Chess('lichess_db_standard_rated_2013-01.pgn')\n",
    "c.pgn_to_csv()[:1000][1]"
   ]
  },
  {
   "cell_type": "code",
   "execution_count": 12,
   "metadata": {},
   "outputs": [],
   "source": [
    "c = Chess('lichess_db_standard_rated_2013-01.pgn')"
   ]
  },
  {
   "cell_type": "code",
   "execution_count": 13,
   "metadata": {},
   "outputs": [],
   "source": [
    "table = c.pgn_to_df()[['Result', 'GameNotation']]"
   ]
  },
  {
   "cell_type": "code",
   "execution_count": 14,
   "metadata": {},
   "outputs": [
    {
     "data": {
      "text/plain": [
       "count     121092\n",
       "unique         2\n",
       "top         True\n",
       "freq       72354\n",
       "Name: GameNotation, dtype: object"
      ]
     },
     "execution_count": 14,
     "metadata": {},
     "output_type": "execute_result"
    }
   ],
   "source": [
    "(table.GameNotation.map(lambda x: x[:5]) == '1. e4').describe()"
   ]
  },
  {
   "cell_type": "code",
   "execution_count": 15,
   "metadata": {},
   "outputs": [
    {
     "data": {
      "text/plain": [
       "count     121092\n",
       "unique         2\n",
       "top         True\n",
       "freq       62000\n",
       "Name: Result, dtype: object"
      ]
     },
     "execution_count": 15,
     "metadata": {},
     "output_type": "execute_result"
    }
   ],
   "source": [
    "table.Result.map(lambda x: x == '1-0').describe()"
   ]
  },
  {
   "cell_type": "code",
   "execution_count": 16,
   "metadata": {},
   "outputs": [
    {
     "data": {
      "text/html": [
       "<div>\n",
       "<style scoped>\n",
       "    .dataframe tbody tr th:only-of-type {\n",
       "        vertical-align: middle;\n",
       "    }\n",
       "\n",
       "    .dataframe tbody tr th {\n",
       "        vertical-align: top;\n",
       "    }\n",
       "\n",
       "    .dataframe thead th {\n",
       "        text-align: right;\n",
       "    }\n",
       "</style>\n",
       "<table border=\"1\" class=\"dataframe\">\n",
       "  <thead>\n",
       "    <tr style=\"text-align: right;\">\n",
       "      <th></th>\n",
       "      <th>Result</th>\n",
       "      <th>GameNotation</th>\n",
       "    </tr>\n",
       "  </thead>\n",
       "  <tbody>\n",
       "    <tr>\n",
       "      <th>0</th>\n",
       "      <td>1-0</td>\n",
       "      <td>1. e4 e6 2. d4 b6 3. a3 Bb7 4. Nc3 Nh6 5. Bxh6...</td>\n",
       "    </tr>\n",
       "    <tr>\n",
       "      <th>1</th>\n",
       "      <td>1-0</td>\n",
       "      <td>1. d4 d5 2. Nf3 Nf6 3. e3 Bf5 4. Nh4 Bg6 5. Nx...</td>\n",
       "    </tr>\n",
       "    <tr>\n",
       "      <th>2</th>\n",
       "      <td>1-0</td>\n",
       "      <td>1. e4 e5 2. Nf3 Nc6 3. Bc4 Nf6 4. Nc3 Bc5 5. a...</td>\n",
       "    </tr>\n",
       "    <tr>\n",
       "      <th>3</th>\n",
       "      <td>0-1</td>\n",
       "      <td>1. e4 c6 2. Nc3 d5 3. Qf3 dxe4 4. Nxe4 Nd7 5. ...</td>\n",
       "    </tr>\n",
       "    <tr>\n",
       "      <th>4</th>\n",
       "      <td>0-1</td>\n",
       "      <td>1. e4 e6 2. f4 d5 3. e5 c5 4. Nf3 Qb6 5. c3 Nc...</td>\n",
       "    </tr>\n",
       "    <tr>\n",
       "      <th>...</th>\n",
       "      <td>...</td>\n",
       "      <td>...</td>\n",
       "    </tr>\n",
       "    <tr>\n",
       "      <th>121087</th>\n",
       "      <td>0-1</td>\n",
       "      <td>1. d4 Nf6 2. c4 g6 3. Nc3 Bg7 4. e4 d6 5. f3 N...</td>\n",
       "    </tr>\n",
       "    <tr>\n",
       "      <th>121088</th>\n",
       "      <td>0-1</td>\n",
       "      <td>1. e4 d5 2. d3 dxe4 3. dxe4 Qxd1+ 4. Kxd1 Nc6 ...</td>\n",
       "    </tr>\n",
       "    <tr>\n",
       "      <th>121089</th>\n",
       "      <td>0-1</td>\n",
       "      <td>1. e4 d5 2. exd5 Qxd5 3. Nc3 Qd8 4. Nf3 Nc6 5....</td>\n",
       "    </tr>\n",
       "    <tr>\n",
       "      <th>121090</th>\n",
       "      <td>1-0</td>\n",
       "      <td>1. e4 f6 2. Bc4 e6 3. d4 Qe7 4. Nc3 Nc6 5. d5 ...</td>\n",
       "    </tr>\n",
       "    <tr>\n",
       "      <th>121091</th>\n",
       "      <td>0-1</td>\n",
       "      <td>1. e4 c6 2. d4 d5 3. Nc3 dxe4 4. Nxe4 Nf6 5. N...</td>\n",
       "    </tr>\n",
       "  </tbody>\n",
       "</table>\n",
       "<p>121092 rows × 2 columns</p>\n",
       "</div>"
      ],
      "text/plain": [
       "       Result                                       GameNotation\n",
       "0         1-0  1. e4 e6 2. d4 b6 3. a3 Bb7 4. Nc3 Nh6 5. Bxh6...\n",
       "1         1-0  1. d4 d5 2. Nf3 Nf6 3. e3 Bf5 4. Nh4 Bg6 5. Nx...\n",
       "2         1-0  1. e4 e5 2. Nf3 Nc6 3. Bc4 Nf6 4. Nc3 Bc5 5. a...\n",
       "3         0-1  1. e4 c6 2. Nc3 d5 3. Qf3 dxe4 4. Nxe4 Nd7 5. ...\n",
       "4         0-1  1. e4 e6 2. f4 d5 3. e5 c5 4. Nf3 Qb6 5. c3 Nc...\n",
       "...       ...                                                ...\n",
       "121087    0-1  1. d4 Nf6 2. c4 g6 3. Nc3 Bg7 4. e4 d6 5. f3 N...\n",
       "121088    0-1  1. e4 d5 2. d3 dxe4 3. dxe4 Qxd1+ 4. Kxd1 Nc6 ...\n",
       "121089    0-1  1. e4 d5 2. exd5 Qxd5 3. Nc3 Qd8 4. Nf3 Nc6 5....\n",
       "121090    1-0  1. e4 f6 2. Bc4 e6 3. d4 Qe7 4. Nc3 Nc6 5. d5 ...\n",
       "121091    0-1  1. e4 c6 2. d4 d5 3. Nc3 dxe4 4. Nxe4 Nf6 5. N...\n",
       "\n",
       "[121092 rows x 2 columns]"
      ]
     },
     "execution_count": 16,
     "metadata": {},
     "output_type": "execute_result"
    }
   ],
   "source": [
    "table"
   ]
  },
  {
   "cell_type": "code",
   "execution_count": null,
   "metadata": {},
   "outputs": [],
   "source": []
  }
 ],
 "metadata": {
  "kernelspec": {
   "display_name": "Python 3",
   "language": "python",
   "name": "python3"
  },
  "language_info": {
   "codemirror_mode": {
    "name": "ipython",
    "version": 3
   },
   "file_extension": ".py",
   "mimetype": "text/x-python",
   "name": "python",
   "nbconvert_exporter": "python",
   "pygments_lexer": "ipython3",
   "version": "3.6.9"
  }
 },
 "nbformat": 4,
 "nbformat_minor": 4
}
