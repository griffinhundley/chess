{
 "cells": [
  {
   "cell_type": "markdown",
   "metadata": {},
   "source": [
    "# A quick exploration of chess statistics using pandas\n"
   ]
  },
  {
   "cell_type": "markdown",
   "metadata": {},
   "source": [
    ".pgn (portable game notation) is a common file type used for chess databases.  \n",
    "\n",
    "Below is a sample of a .pgn grabbed from the open source lichess.org "
   ]
  },
  {
   "cell_type": "code",
   "execution_count": 185,
   "metadata": {},
   "outputs": [
    {
     "data": {
      "text/plain": [
       "'[Event \"Rated Classical game\"]\\n[Site \"https://lichess.org/j1dkb5dw\"]\\n[White \"BFG9k\"]\\n[Black \"mamalak\"]\\n[Result \"1-0\"]\\n[UTCDate \"2012.12.31\"]\\n[UTCTime \"23:01:03\"]\\n[WhiteElo \"1639\"]\\n[BlackElo \"1403\"]\\n[WhiteRatingDiff \"+5\"]\\n[BlackRatingDiff \"-8\"]\\n[ECO \"C00\"]\\n[Opening \"French Defense: Normal Variation\"]\\n[TimeControl \"600+8\"]\\n[Termination \"Normal\"]\\n\\n1. e4 e6 2. d4 b6 3. a3 Bb7 4. Nc3 Nh6 5. Bxh6 gxh6 6. Be2 Qg5 7. Bg4 h5 8. Nf3 Qg6 9. Nh4 Qg5 10. Bxh5 Qxh4 11. Qf3 Kd8 12. Qxf7 Nc6 13. Qe8# 1-0\\n\\n[Event \"Rated Classical game\"]\\n[Site \"https://lichess.org/a9tcp02g\"]\\n[White \"Desmond_Wilson\"]\\n[Black \"savinka59\"]\\n[Result \"1-0\"]\\n[UTCDate \"2012.12.31\"]\\n[UTCTime \"23:04:12\"]\\n[WhiteElo \"1654\"]\\n[BlackElo \"1919\"]\\n[WhiteRatingDiff \"+19\"]\\n[BlackRatingDiff \"-22\"]\\n[ECO \"D04\"]\\n[Opening \"Queen\\'s Pawn Game: Colle System, Anti-Colle\"]\\n[TimeControl \"480+2\"]\\n[Termination \"Normal\"]\\n\\n1. d4 d5 2. Nf3 Nf6 3. e3 Bf5 4. Nh4 Bg6 5. Nxg6 hxg6 6. Nd2 e6 7. Bd3 Bd6 8. e4 dxe4 9. Nxe4 Rxh2 10. Ke2 Rxh1 11. Qxh1 Nc6 12. Bg5 K'"
      ]
     },
     "execution_count": 185,
     "metadata": {},
     "output_type": "execute_result"
    }
   ],
   "source": [
    "open('lichess_db_standard_rated_2013-01.pgn').read()[:1000]"
   ]
  },
  {
   "cell_type": "markdown",
   "metadata": {},
   "source": [
    "Because this format is not as easy to turn into a pandas DataFrame, I hacked together a function that parses it into lists, puts it into a DataFrame, and gives it some formatting. A small selection of games are missing rating data for one or both players (<1%) so they are omitted."
   ]
  },
  {
   "cell_type": "code",
   "execution_count": 14,
   "metadata": {},
   "outputs": [],
   "source": [
    "import pandas as pd\n",
    "class Chess:\n",
    "    def __init__(self, path):\n",
    "        self.path = path\n",
    "        \n",
    "    def pgn_to_df(self):\n",
    "        f = open(self.path).read()\n",
    "        formatted_string = f.replace('[Event', '***[Event').replace('\\n\\n', '\\n').split('***')\n",
    "        blank_values_stripped = [x for x in formatted_string if x != '']\n",
    "        sub_lists = [x.split('\\n') for x in blank_values_stripped]                \n",
    "        pre_dict_format = [[x.replace('\"', ':', 1).replace('[', '').replace(']', '').replace('\"', '').replace(' ', '') \n",
    "                            for x in row]for row in sub_lists]        \n",
    "        [x.pop() for x in pre_dict_format]\n",
    "        dicted_list = [[element.split(':')[1] if len(element.split(':')) == 2 else element for element in row]\n",
    "                for row in pre_dict_format]\n",
    "        df = pd.DataFrame.from_records([x for x in dicted_list if len(x) == 16])\n",
    "        df.rename(columns={0: 'event', 1: 'site', 2: 'white', 3: 'black', 4: 'result'}, inplace = True)\n",
    "        df.rename(columns={5: 'utcdate', 6: 'utctime', 7: 'white_elo', 8: 'black_elo'}, inplace = True)\n",
    "        df.rename(columns={9: 'white_rating_diff', 10: 'black_rating_diff', 11: 'eco', 12: 'opening', \n",
    "                           13: 'time_control', 14: 'termination', 15: 'game_notation'}, inplace = True)\n",
    "        df.site = df.site.apply(lambda x: x.replace('Site:',''))\n",
    "        df.utctime = df.utctime.apply(lambda x: x.replace('UTCTime:',''))\n",
    "        df.opening = df.opening.apply(lambda x: x.replace('Opening:',''))\n",
    "        df.white_elo = df.white_elo.astype('int64')\n",
    "        df.black_elo = df.black_elo.astype('int64')\n",
    "        return df"
   ]
  },
  {
   "cell_type": "markdown",
   "metadata": {},
   "source": [
    "Now we can import our file as a DataFrame."
   ]
  },
  {
   "cell_type": "code",
   "execution_count": 15,
   "metadata": {
    "scrolled": true
   },
   "outputs": [
    {
     "data": {
      "text/html": [
       "<div>\n",
       "<style scoped>\n",
       "    .dataframe tbody tr th:only-of-type {\n",
       "        vertical-align: middle;\n",
       "    }\n",
       "\n",
       "    .dataframe tbody tr th {\n",
       "        vertical-align: top;\n",
       "    }\n",
       "\n",
       "    .dataframe thead th {\n",
       "        text-align: right;\n",
       "    }\n",
       "</style>\n",
       "<table border=\"1\" class=\"dataframe\">\n",
       "  <thead>\n",
       "    <tr style=\"text-align: right;\">\n",
       "      <th></th>\n",
       "      <th>event</th>\n",
       "      <th>site</th>\n",
       "      <th>white</th>\n",
       "      <th>black</th>\n",
       "      <th>result</th>\n",
       "      <th>utcdate</th>\n",
       "      <th>utctime</th>\n",
       "      <th>white_elo</th>\n",
       "      <th>black_elo</th>\n",
       "      <th>white_rating_diff</th>\n",
       "      <th>black_rating_diff</th>\n",
       "      <th>eco</th>\n",
       "      <th>opening</th>\n",
       "      <th>time_control</th>\n",
       "      <th>termination</th>\n",
       "      <th>game_notation</th>\n",
       "    </tr>\n",
       "  </thead>\n",
       "  <tbody>\n",
       "    <tr>\n",
       "      <th>0</th>\n",
       "      <td>RatedClassicalgame</td>\n",
       "      <td>https://lichess.org/j1dkb5dw</td>\n",
       "      <td>BFG9k</td>\n",
       "      <td>mamalak</td>\n",
       "      <td>1-0</td>\n",
       "      <td>2012.12.31</td>\n",
       "      <td>23:01:03</td>\n",
       "      <td>1639</td>\n",
       "      <td>1403</td>\n",
       "      <td>+5</td>\n",
       "      <td>-8</td>\n",
       "      <td>C00</td>\n",
       "      <td>FrenchDefense:NormalVariation</td>\n",
       "      <td>600+8</td>\n",
       "      <td>Normal</td>\n",
       "      <td>1.e4e62.d4b63.a3Bb74.Nc3Nh65.Bxh6gxh66.Be2Qg57...</td>\n",
       "    </tr>\n",
       "    <tr>\n",
       "      <th>1</th>\n",
       "      <td>RatedClassicalgame</td>\n",
       "      <td>https://lichess.org/a9tcp02g</td>\n",
       "      <td>Desmond_Wilson</td>\n",
       "      <td>savinka59</td>\n",
       "      <td>1-0</td>\n",
       "      <td>2012.12.31</td>\n",
       "      <td>23:04:12</td>\n",
       "      <td>1654</td>\n",
       "      <td>1919</td>\n",
       "      <td>+19</td>\n",
       "      <td>-22</td>\n",
       "      <td>D04</td>\n",
       "      <td>Queen'sPawnGame:ColleSystem,Anti-Colle</td>\n",
       "      <td>480+2</td>\n",
       "      <td>Normal</td>\n",
       "      <td>1.d4d52.Nf3Nf63.e3Bf54.Nh4Bg65.Nxg6hxg66.Nd2e6...</td>\n",
       "    </tr>\n",
       "    <tr>\n",
       "      <th>2</th>\n",
       "      <td>RatedClassicalgame</td>\n",
       "      <td>https://lichess.org/szom2tog</td>\n",
       "      <td>Kozakmamay007</td>\n",
       "      <td>VanillaShamanilla</td>\n",
       "      <td>1-0</td>\n",
       "      <td>2012.12.31</td>\n",
       "      <td>23:03:15</td>\n",
       "      <td>1643</td>\n",
       "      <td>1747</td>\n",
       "      <td>+13</td>\n",
       "      <td>-94</td>\n",
       "      <td>C50</td>\n",
       "      <td>FourKnightsGame:ItalianVariation</td>\n",
       "      <td>420+17</td>\n",
       "      <td>Normal</td>\n",
       "      <td>1.e4e52.Nf3Nc63.Bc4Nf64.Nc3Bc55.a3Bxf2+6.Kxf2N...</td>\n",
       "    </tr>\n",
       "    <tr>\n",
       "      <th>3</th>\n",
       "      <td>RatedBulletgame</td>\n",
       "      <td>https://lichess.org/rklpc7mk</td>\n",
       "      <td>Naitero_Nagasaki</td>\n",
       "      <td>800</td>\n",
       "      <td>0-1</td>\n",
       "      <td>2012.12.31</td>\n",
       "      <td>23:04:57</td>\n",
       "      <td>1824</td>\n",
       "      <td>1973</td>\n",
       "      <td>-6</td>\n",
       "      <td>+8</td>\n",
       "      <td>B12</td>\n",
       "      <td>Caro-KannDefense:GoldmanVariation</td>\n",
       "      <td>60+1</td>\n",
       "      <td>Normal</td>\n",
       "      <td>1.e4c62.Nc3d53.Qf3dxe44.Nxe4Nd75.Bc4Ngf66.Nxf6...</td>\n",
       "    </tr>\n",
       "    <tr>\n",
       "      <th>4</th>\n",
       "      <td>RatedBulletgame</td>\n",
       "      <td>https://lichess.org/1xb3os63</td>\n",
       "      <td>nichiren1967</td>\n",
       "      <td>Naitero_Nagasaki</td>\n",
       "      <td>0-1</td>\n",
       "      <td>2012.12.31</td>\n",
       "      <td>23:02:37</td>\n",
       "      <td>1765</td>\n",
       "      <td>1815</td>\n",
       "      <td>-9</td>\n",
       "      <td>+9</td>\n",
       "      <td>C00</td>\n",
       "      <td>FrenchDefense:LaBourdonnaisVariation</td>\n",
       "      <td>60+1</td>\n",
       "      <td>Normal</td>\n",
       "      <td>1.e4e62.f4d53.e5c54.Nf3Qb65.c3Nc66.d3Bd77.Be2N...</td>\n",
       "    </tr>\n",
       "  </tbody>\n",
       "</table>\n",
       "</div>"
      ],
      "text/plain": [
       "                event                          site             white  \\\n",
       "0  RatedClassicalgame  https://lichess.org/j1dkb5dw             BFG9k   \n",
       "1  RatedClassicalgame  https://lichess.org/a9tcp02g    Desmond_Wilson   \n",
       "2  RatedClassicalgame  https://lichess.org/szom2tog     Kozakmamay007   \n",
       "3     RatedBulletgame  https://lichess.org/rklpc7mk  Naitero_Nagasaki   \n",
       "4     RatedBulletgame  https://lichess.org/1xb3os63      nichiren1967   \n",
       "\n",
       "               black result     utcdate   utctime  white_elo  black_elo  \\\n",
       "0            mamalak    1-0  2012.12.31  23:01:03       1639       1403   \n",
       "1          savinka59    1-0  2012.12.31  23:04:12       1654       1919   \n",
       "2  VanillaShamanilla    1-0  2012.12.31  23:03:15       1643       1747   \n",
       "3                800    0-1  2012.12.31  23:04:57       1824       1973   \n",
       "4   Naitero_Nagasaki    0-1  2012.12.31  23:02:37       1765       1815   \n",
       "\n",
       "  white_rating_diff black_rating_diff  eco  \\\n",
       "0                +5                -8  C00   \n",
       "1               +19               -22  D04   \n",
       "2               +13               -94  C50   \n",
       "3                -6                +8  B12   \n",
       "4                -9                +9  C00   \n",
       "\n",
       "                                  opening time_control termination  \\\n",
       "0           FrenchDefense:NormalVariation        600+8      Normal   \n",
       "1  Queen'sPawnGame:ColleSystem,Anti-Colle        480+2      Normal   \n",
       "2        FourKnightsGame:ItalianVariation       420+17      Normal   \n",
       "3       Caro-KannDefense:GoldmanVariation         60+1      Normal   \n",
       "4    FrenchDefense:LaBourdonnaisVariation         60+1      Normal   \n",
       "\n",
       "                                       game_notation  \n",
       "0  1.e4e62.d4b63.a3Bb74.Nc3Nh65.Bxh6gxh66.Be2Qg57...  \n",
       "1  1.d4d52.Nf3Nf63.e3Bf54.Nh4Bg65.Nxg6hxg66.Nd2e6...  \n",
       "2  1.e4e52.Nf3Nc63.Bc4Nf64.Nc3Bc55.a3Bxf2+6.Kxf2N...  \n",
       "3  1.e4c62.Nc3d53.Qf3dxe44.Nxe4Nd75.Bc4Ngf66.Nxf6...  \n",
       "4  1.e4e62.f4d53.e5c54.Nf3Qb65.c3Nc66.d3Bd77.Be2N...  "
      ]
     },
     "execution_count": 15,
     "metadata": {},
     "output_type": "execute_result"
    }
   ],
   "source": [
    "c = Chess('lichess_db_standard_rated_2013-01.pgn')\n",
    "my_chess_table = c.pgn_to_df()\n",
    "my_chess_table.head()"
   ]
  },
  {
   "cell_type": "markdown",
   "metadata": {},
   "source": [
    "Let's take a look at only the games where both players are 'experts' (over 2000 rating)"
   ]
  },
  {
   "cell_type": "code",
   "execution_count": 34,
   "metadata": {
    "scrolled": true
   },
   "outputs": [
    {
     "data": {
      "text/html": [
       "<div>\n",
       "<style scoped>\n",
       "    .dataframe tbody tr th:only-of-type {\n",
       "        vertical-align: middle;\n",
       "    }\n",
       "\n",
       "    .dataframe tbody tr th {\n",
       "        vertical-align: top;\n",
       "    }\n",
       "\n",
       "    .dataframe thead th {\n",
       "        text-align: right;\n",
       "    }\n",
       "</style>\n",
       "<table border=\"1\" class=\"dataframe\">\n",
       "  <thead>\n",
       "    <tr style=\"text-align: right;\">\n",
       "      <th></th>\n",
       "      <th>event</th>\n",
       "      <th>site</th>\n",
       "      <th>white</th>\n",
       "      <th>black</th>\n",
       "      <th>result</th>\n",
       "      <th>utcdate</th>\n",
       "      <th>utctime</th>\n",
       "      <th>white_elo</th>\n",
       "      <th>black_elo</th>\n",
       "      <th>white_rating_diff</th>\n",
       "      <th>black_rating_diff</th>\n",
       "      <th>eco</th>\n",
       "      <th>opening</th>\n",
       "      <th>time_control</th>\n",
       "      <th>termination</th>\n",
       "      <th>game_notation</th>\n",
       "    </tr>\n",
       "  </thead>\n",
       "  <tbody>\n",
       "    <tr>\n",
       "      <th>823</th>\n",
       "      <td>RatedBulletgame</td>\n",
       "      <td>https://lichess.org/muyx35xi</td>\n",
       "      <td>Yeshi</td>\n",
       "      <td>xiaoqiao</td>\n",
       "      <td>0-1</td>\n",
       "      <td>2013.01.01</td>\n",
       "      <td>06:56:45</td>\n",
       "      <td>2004</td>\n",
       "      <td>2040</td>\n",
       "      <td>-29</td>\n",
       "      <td>+12</td>\n",
       "      <td>A01</td>\n",
       "      <td>Nimzo-LarsenAttack:ModernVariation#3</td>\n",
       "      <td>120+0</td>\n",
       "      <td>Timeforfeit</td>\n",
       "      <td>1.b3e52.Bb2Nc63.Nf3d64.e3f55.d4e46.Nfd2Nf67.c4...</td>\n",
       "    </tr>\n",
       "    <tr>\n",
       "      <th>1155</th>\n",
       "      <td>RatedBlitzgame</td>\n",
       "      <td>https://lichess.org/hmkle9lz</td>\n",
       "      <td>dek</td>\n",
       "      <td>StefanK</td>\n",
       "      <td>0-1</td>\n",
       "      <td>2013.01.01</td>\n",
       "      <td>10:57:13</td>\n",
       "      <td>2087</td>\n",
       "      <td>2042</td>\n",
       "      <td>-14</td>\n",
       "      <td>+13</td>\n",
       "      <td>B12</td>\n",
       "      <td>Caro-KannDefense:AdvanceVariation,Botvinnik-Ca...</td>\n",
       "      <td>180+0</td>\n",
       "      <td>Timeforfeit</td>\n",
       "      <td>1.e4c62.d4d53.e5c54.c3Nc65.f4g66.Nf3Bg77.Bd3h5...</td>\n",
       "    </tr>\n",
       "    <tr>\n",
       "      <th>1186</th>\n",
       "      <td>RatedBlitzgame</td>\n",
       "      <td>https://lichess.org/607nglwh</td>\n",
       "      <td>Antarut</td>\n",
       "      <td>dek</td>\n",
       "      <td>0-1</td>\n",
       "      <td>2013.01.01</td>\n",
       "      <td>11:03:42</td>\n",
       "      <td>2012</td>\n",
       "      <td>2073</td>\n",
       "      <td>-18</td>\n",
       "      <td>+10</td>\n",
       "      <td>C46</td>\n",
       "      <td>ThreeKnightsOpening</td>\n",
       "      <td>180+0</td>\n",
       "      <td>Normal</td>\n",
       "      <td>1.e4e52.Nc3Nc63.Nf3Bc54.Nxe5Bxf2+5.Kxf2Nxe56.d...</td>\n",
       "    </tr>\n",
       "    <tr>\n",
       "      <th>1691</th>\n",
       "      <td>RatedBulletgame</td>\n",
       "      <td>https://lichess.org/i3xuyu7q</td>\n",
       "      <td>Panevis</td>\n",
       "      <td>StefanK</td>\n",
       "      <td>0-1</td>\n",
       "      <td>2013.01.01</td>\n",
       "      <td>14:53:32</td>\n",
       "      <td>2062</td>\n",
       "      <td>2145</td>\n",
       "      <td>-10</td>\n",
       "      <td>+11</td>\n",
       "      <td>C00</td>\n",
       "      <td>FrenchDefense:NormalVariation</td>\n",
       "      <td>60+0</td>\n",
       "      <td>Normal</td>\n",
       "      <td>1.e4e62.d4b63.e5Bb74.Nf3c55.c3cxd46.cxd4Nc67.B...</td>\n",
       "    </tr>\n",
       "    <tr>\n",
       "      <th>2003</th>\n",
       "      <td>RatedBlitzgame</td>\n",
       "      <td>https://lichess.org/kahmgob6</td>\n",
       "      <td>ostrak11</td>\n",
       "      <td>celeron17</td>\n",
       "      <td>0-1</td>\n",
       "      <td>2013.01.01</td>\n",
       "      <td>16:22:12</td>\n",
       "      <td>2070</td>\n",
       "      <td>2240</td>\n",
       "      <td>-7</td>\n",
       "      <td>+21</td>\n",
       "      <td>D00</td>\n",
       "      <td>Queen'sPawnGame#2</td>\n",
       "      <td>240+0</td>\n",
       "      <td>Normal</td>\n",
       "      <td>1.d4d52.e3e63.c4f54.Nc3Nf65.Nf3c66.cxd5exd57.B...</td>\n",
       "    </tr>\n",
       "  </tbody>\n",
       "</table>\n",
       "</div>"
      ],
      "text/plain": [
       "                event                          site     white      black  \\\n",
       "823   RatedBulletgame  https://lichess.org/muyx35xi     Yeshi   xiaoqiao   \n",
       "1155   RatedBlitzgame  https://lichess.org/hmkle9lz       dek    StefanK   \n",
       "1186   RatedBlitzgame  https://lichess.org/607nglwh   Antarut        dek   \n",
       "1691  RatedBulletgame  https://lichess.org/i3xuyu7q   Panevis    StefanK   \n",
       "2003   RatedBlitzgame  https://lichess.org/kahmgob6  ostrak11  celeron17   \n",
       "\n",
       "     result     utcdate   utctime  white_elo  black_elo white_rating_diff  \\\n",
       "823     0-1  2013.01.01  06:56:45       2004       2040               -29   \n",
       "1155    0-1  2013.01.01  10:57:13       2087       2042               -14   \n",
       "1186    0-1  2013.01.01  11:03:42       2012       2073               -18   \n",
       "1691    0-1  2013.01.01  14:53:32       2062       2145               -10   \n",
       "2003    0-1  2013.01.01  16:22:12       2070       2240                -7   \n",
       "\n",
       "     black_rating_diff  eco  \\\n",
       "823                +12  A01   \n",
       "1155               +13  B12   \n",
       "1186               +10  C46   \n",
       "1691               +11  C00   \n",
       "2003               +21  D00   \n",
       "\n",
       "                                                opening time_control  \\\n",
       "823                Nimzo-LarsenAttack:ModernVariation#3        120+0   \n",
       "1155  Caro-KannDefense:AdvanceVariation,Botvinnik-Ca...        180+0   \n",
       "1186                                ThreeKnightsOpening        180+0   \n",
       "1691                      FrenchDefense:NormalVariation         60+0   \n",
       "2003                                  Queen'sPawnGame#2        240+0   \n",
       "\n",
       "      termination                                      game_notation  \n",
       "823   Timeforfeit  1.b3e52.Bb2Nc63.Nf3d64.e3f55.d4e46.Nfd2Nf67.c4...  \n",
       "1155  Timeforfeit  1.e4c62.d4d53.e5c54.c3Nc65.f4g66.Nf3Bg77.Bd3h5...  \n",
       "1186       Normal  1.e4e52.Nc3Nc63.Nf3Bc54.Nxe5Bxf2+5.Kxf2Nxe56.d...  \n",
       "1691       Normal  1.e4e62.d4b63.e5Bb74.Nf3c55.c3cxd46.cxd4Nc67.B...  \n",
       "2003       Normal  1.d4d52.e3e63.c4f54.Nc3Nf65.Nf3c66.cxd5exd57.B...  "
      ]
     },
     "execution_count": 34,
     "metadata": {},
     "output_type": "execute_result"
    }
   ],
   "source": [
    "experts = my_chess_table.loc[(my_chess_table.white_elo > 2000) & (my_chess_table.black_elo > 2000)]\n",
    "experts.head()"
   ]
  },
  {
   "cell_type": "markdown",
   "metadata": {},
   "source": [
    "Every chess player at one point asks themselves the question: \"What is the best first move?.\"\n",
    "We can look at the first move expert players tend to use."
   ]
  },
  {
   "cell_type": "code",
   "execution_count": 35,
   "metadata": {},
   "outputs": [
    {
     "data": {
      "text/plain": [
       "823     1.b3e52.Bb2Nc63.Nf3d64.e3f55.d4e46.Nfd2Nf67.c4...\n",
       "1155    1.e4c62.d4d53.e5c54.c3Nc65.f4g66.Nf3Bg77.Bd3h5...\n",
       "1186    1.e4e52.Nc3Nc63.Nf3Bc54.Nxe5Bxf2+5.Kxf2Nxe56.d...\n",
       "1691    1.e4e62.d4b63.e5Bb74.Nf3c55.c3cxd46.cxd4Nc67.B...\n",
       "2003    1.d4d52.e3e63.c4f54.Nc3Nf65.Nf3c66.cxd5exd57.B...\n",
       "Name: game_notation, dtype: object"
      ]
     },
     "execution_count": 35,
     "metadata": {},
     "output_type": "execute_result"
    }
   ],
   "source": [
    "experts.game_notation.head()"
   ]
  },
  {
   "cell_type": "markdown",
   "metadata": {},
   "source": [
    "We can slice this to only look at the move 1. __"
   ]
  },
  {
   "cell_type": "code",
   "execution_count": 36,
   "metadata": {},
   "outputs": [
    {
     "name": "stderr",
     "output_type": "stream",
     "text": [
      "/opt/anaconda3/envs/learn-env/lib/python3.6/site-packages/ipykernel_launcher.py:1: SettingWithCopyWarning: \n",
      "A value is trying to be set on a copy of a slice from a DataFrame.\n",
      "Try using .loc[row_indexer,col_indexer] = value instead\n",
      "\n",
      "See the caveats in the documentation: http://pandas.pydata.org/pandas-docs/stable/user_guide/indexing.html#returning-a-view-versus-a-copy\n",
      "  \"\"\"Entry point for launching an IPython kernel.\n"
     ]
    },
    {
     "data": {
      "text/plain": [
       "823       1.b3\n",
       "1155      1.e4\n",
       "1186      1.e4\n",
       "1691      1.e4\n",
       "2003      1.d4\n",
       "          ... \n",
       "118286    1.e4\n",
       "120499    1.e4\n",
       "120720    1.e4\n",
       "120794    1.e4\n",
       "120933    1.e4\n",
       "Name: first_move, Length: 609, dtype: object"
      ]
     },
     "execution_count": 36,
     "metadata": {},
     "output_type": "execute_result"
    }
   ],
   "source": [
    "experts['first_move'] = experts.game_notation.apply(lambda x: x[0:4])\n",
    "experts.first_move"
   ]
  },
  {
   "cell_type": "code",
   "execution_count": 39,
   "metadata": {
    "scrolled": true
   },
   "outputs": [
    {
     "data": {
      "text/plain": [
       "array(['1.b3', '1.e4', '1.d4', '1.Nf', '1.c4', '1.f4', '1.Nc', '1.d3',\n",
       "       '1.e3', '1.g3'], dtype=object)"
      ]
     },
     "execution_count": 39,
     "metadata": {},
     "output_type": "execute_result"
    }
   ],
   "source": [
    "experts.first_move.unique()"
   ]
  },
  {
   "cell_type": "markdown",
   "metadata": {},
   "source": [
    "On turn 1 there are 20 legal moves.  Already in this dataset we have narrowed down the moves that experts play to 10."
   ]
  },
  {
   "cell_type": "code",
   "execution_count": 42,
   "metadata": {},
   "outputs": [
    {
     "data": {
      "text/plain": [
       "1.e4    295\n",
       "1.d4    190\n",
       "1.c4     49\n",
       "1.Nf     37\n",
       "1.Nc     21\n",
       "1.f4      8\n",
       "1.b3      5\n",
       "1.e3      2\n",
       "1.d3      1\n",
       "1.g3      1\n",
       "Name: first_move, dtype: int64"
      ]
     },
     "execution_count": 42,
     "metadata": {},
     "output_type": "execute_result"
    }
   ],
   "source": [
    "experts.first_move.value_counts()"
   ]
  },
  {
   "cell_type": "markdown",
   "metadata": {},
   "source": [
    "So we see that half of those 10 moves that our sample of experts play are played extremely rarely.\n",
    "The most common moves on turn 1 for white are 1. e4 and 1. d4 by a large margin, making over half of the games in this sample.  If you were using usage statistics to validate your gameplay decisions in chess, you would come to the conclusion that 1. e4 and 1. d4 are the best moves to make on turn 1.\n",
    "Let's check the win rate of those games where 1. e4 were played"
   ]
  },
  {
   "cell_type": "code",
   "execution_count": 46,
   "metadata": {
    "scrolled": true
   },
   "outputs": [
    {
     "data": {
      "text/plain": [
       "0-1        140\n",
       "1-0        130\n",
       "1/2-1/2     25\n",
       "Name: result, dtype: int64"
      ]
     },
     "execution_count": 46,
     "metadata": {},
     "output_type": "execute_result"
    }
   ],
   "source": [
    "experts.loc[experts.first_move == '1.e4'].result.value_counts()"
   ]
  },
  {
   "cell_type": "markdown",
   "metadata": {},
   "source": [
    "In chess there are 3 potential outcomes to a game. 1-0 indicates a win for white, 0-1 a win for black, and 1/2 -1/2 is a draw.  In our sample of expert games, 1. e4 has 130 wins, 140 losses, and 25 draws out of 295 games.\n",
    "So for white, 1. e4 has "
   ]
  },
  {
   "cell_type": "code",
   "execution_count": 52,
   "metadata": {
    "scrolled": true
   },
   "outputs": [
    {
     "name": "stdout",
     "output_type": "stream",
     "text": [
      "0.4406779661016949 chance to win\n",
      "0.4745762711864407 chance to lose\n",
      "0.0847457627118644 chance to draw\n"
     ]
    }
   ],
   "source": [
    "print(str(130 / 295) + ' chance to win')\n",
    "print(str(140 / 295) + ' chance to lose')\n",
    "print(str(25 / 295) + ' chance to draw')"
   ]
  },
  {
   "cell_type": "markdown",
   "metadata": {},
   "source": [
    "Repeating this for the second most common move, 1. d4"
   ]
  },
  {
   "cell_type": "code",
   "execution_count": 47,
   "metadata": {},
   "outputs": [
    {
     "data": {
      "text/plain": [
       "1-0        103\n",
       "0-1         78\n",
       "1/2-1/2      9\n",
       "Name: result, dtype: int64"
      ]
     },
     "execution_count": 47,
     "metadata": {},
     "output_type": "execute_result"
    }
   ],
   "source": [
    "experts.loc[experts.first_move == '1.d4'].result.value_counts()"
   ]
  },
  {
   "cell_type": "code",
   "execution_count": 54,
   "metadata": {},
   "outputs": [
    {
     "name": "stdout",
     "output_type": "stream",
     "text": [
      "0.5421052631578948 chance to win\n",
      "0.4105263157894737 chance to lose\n",
      "0.04736842105263158 chance to draw\n"
     ]
    }
   ],
   "source": [
    "print(str(103 / 190) + ' chance to win')\n",
    "print(str(78 / 190) + ' chance to lose')\n",
    "print(str(9 / 190) + ' chance to draw')"
   ]
  },
  {
   "cell_type": "markdown",
   "metadata": {},
   "source": [
    "So even though 1. d4 is a less common move than 1. e4, in this set it has a much better winrate, and a lower chance to draw as well.  If you are the type of player who aims to win, you might tailor your opening repetoire based on these results and switch to playing 1. d4 as your first move."
   ]
  },
  {
   "cell_type": "code",
   "execution_count": null,
   "metadata": {},
   "outputs": [],
   "source": []
  }
 ],
 "metadata": {
  "kernelspec": {
   "display_name": "Python 3",
   "language": "python",
   "name": "python3"
  },
  "language_info": {
   "codemirror_mode": {
    "name": "ipython",
    "version": 3
   },
   "file_extension": ".py",
   "mimetype": "text/x-python",
   "name": "python",
   "nbconvert_exporter": "python",
   "pygments_lexer": "ipython3",
   "version": "3.6.9"
  }
 },
 "nbformat": 4,
 "nbformat_minor": 4
}
