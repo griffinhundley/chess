{
 "cells": [
  {
   "cell_type": "code",
   "execution_count": 1,
   "metadata": {},
   "outputs": [
    {
     "data": {
      "text/plain": [
       "'[Event \"Rated Classical game\"]\\n[Site \"https://lichess.org/j1dkb5dw\"]\\n[White \"BFG9k\"]\\n[Black \"mamalak\"]\\n[Result \"1-0\"]\\n[UTCDate \"2012.12.31\"]\\n[UTCTime \"23:01:03\"]\\n[WhiteElo \"1639\"]\\n[BlackElo \"1403\"]\\n[WhiteRatingDiff \"+5\"]\\n[BlackRatingDiff \"-8\"]\\n[ECO \"C00\"]\\n[Opening \"French Defense: Normal Variation\"]\\n[TimeControl \"600+8\"]\\n[Termination \"Normal\"]\\n\\n1. e4 e6 2. d4 b6 3. a3 Bb7 4. Nc3 Nh6 5. Bxh6 gxh6 6. Be2 Qg5 7. Bg4 h5 8. Nf3 Qg6 9. Nh4 Qg5 10. Bxh5 Qxh4 11. Qf3 Kd8 12. Qxf7 Nc6 13. Qe8# 1-0\\n\\n[Event \"Rated Classical game\"]\\n[Site \"https://lichess.org/a9tcp02g\"]\\n[White \"Desmond_Wilson\"]\\n[Black \"savinka59\"]\\n[Result \"1-0\"]\\n[UTCDate \"2012.12.31\"]\\n[UTCTime \"23:04:12\"]\\n[WhiteElo \"1654\"]\\n[BlackElo \"1919\"]\\n[WhiteRatingDiff \"+19\"]\\n[BlackRatingDiff \"-22\"]\\n[ECO \"D04\"]\\n[Opening \"Queen\\'s Pawn Game: Colle System, Anti-Colle\"]\\n[TimeControl \"480+2\"]\\n[Termination \"Normal\"]\\n\\n1. d4 d5 2. Nf3 Nf6 3. e3 Bf5 4. Nh4 Bg6 5. Nxg6 hxg6 6. Nd2 e6 7. Bd3 Bd6 8. e4 dxe4 9. Nxe4 Rxh2 10. Ke2 Rxh1 11. Qxh1 Nc6 12. Bg5 K'"
      ]
     },
     "execution_count": 1,
     "metadata": {},
     "output_type": "execute_result"
    }
   ],
   "source": [
    "# PGN is a file type used for chess game databases\n",
    "# Sample of PGN (portable game notation) file\n",
    "open('C:\\Py\\lichess_db_standard_rated_2013-01.txt').read()[:1000]"
   ]
  },
  {
   "cell_type": "code",
   "execution_count": 2,
   "metadata": {},
   "outputs": [],
   "source": [
    "import pandas as pd\n",
    "\n",
    "class Chess:\n",
    "    def __init__(self, path):\n",
    "        self.path = path\n",
    "        \n",
    "    def pgn_to_df(self): # Formats the pgn string by removing characters and splitting into list of lists\n",
    "                         # then puts some of the key information into a pandas dataframe\n",
    "        file = open(self.path)\n",
    "        text_list = file.read().replace('\"', '').replace('[', '').replace(']', '').replace('Event', '***Event').replace('\\n\\n', '\\n').split('***')\n",
    "        formatted = [x for x in text_list if x != '']\n",
    "        sized = list(map(lambda x: x.split('\\n'), formatted))\n",
    "        chesslst = [x for x in sized if len(x) == 17]  # Excludes entries lacking complete data (len(list) = 17 indicates all fields have data)\n",
    "        chessDF = [{\n",
    "            'Event': x[0][6:],\n",
    "            'White': x[2][6:],\n",
    "            'Black': x[3][6:],\n",
    "            'Result': x[4][7:],\n",
    "            'WhiteElo': x[7][9:],\n",
    "            'BlackElo': x[8][9:],\n",
    "            'GameNotation': x[15]\n",
    "        } for x in chesslst]\n",
    "        return pd.DataFrame(chessDF)"
   ]
  },
  {
   "cell_type": "code",
   "execution_count": 3,
   "metadata": {},
   "outputs": [],
   "source": [
    "c = Chess('C:\\Py\\lichess_db_standard_rated_2013-01.txt')"
   ]
  },
  {
   "cell_type": "code",
   "execution_count": 10,
   "metadata": {},
   "outputs": [],
   "source": [
    "table = c.pgn_to_df()[['Result', 'GameNotation']]"
   ]
  },
  {
   "cell_type": "code",
   "execution_count": 20,
   "metadata": {},
   "outputs": [
    {
     "data": {
      "text/plain": [
       "count     121092\n",
       "unique         2\n",
       "top         True\n",
       "freq       72354\n",
       "Name: GameNotation, dtype: object"
      ]
     },
     "execution_count": 20,
     "metadata": {},
     "output_type": "execute_result"
    }
   ],
   "source": [
    "(table.GameNotation.map(lambda x: x[:5]) == '1. e4').describe()"
   ]
  },
  {
   "cell_type": "code",
   "execution_count": 14,
   "metadata": {},
   "outputs": [
    {
     "data": {
      "text/plain": [
       "count     121092\n",
       "unique         2\n",
       "top         True\n",
       "freq       62000\n",
       "Name: Result, dtype: object"
      ]
     },
     "execution_count": 14,
     "metadata": {},
     "output_type": "execute_result"
    }
   ],
   "source": [
    "table.Result.map(lambda x: x == '1-0').describe()"
   ]
  },
  {
   "cell_type": "code",
   "execution_count": null,
   "metadata": {},
   "outputs": [],
   "source": []
  }
 ],
 "metadata": {
  "kernelspec": {
   "display_name": "Python 3",
   "language": "python",
   "name": "python3"
  },
  "language_info": {
   "codemirror_mode": {
    "name": "ipython",
    "version": 3
   },
   "file_extension": ".py",
   "mimetype": "text/x-python",
   "name": "python",
   "nbconvert_exporter": "python",
   "pygments_lexer": "ipython3",
   "version": "3.7.6"
  }
 },
 "nbformat": 4,
 "nbformat_minor": 4
}
